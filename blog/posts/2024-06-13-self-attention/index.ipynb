{
  "cells": [
    {
      "cell_type": "raw",
      "metadata": {},
      "source": [
        "---\n",
        "title: \"Self-Attention\"\n",
        "date: \"2024-06-13\"\n",
        "categories: [nlp, from scratch, foundations]\n",
        "image: \"image.jpg\"\n",
        "draft: true\n",
        "---\n",
        "\n",
        "Demystifying the core component of what makes Transformers tick: Self-Attention."
      ]
    },
    {
      "cell_type": "code",
      "execution_count": null,
      "metadata": {
        "vscode": {
          "languageId": "python"
        }
      },
      "outputs": [],
      "source": [
        "import torch"
      ]
    }
  ],
  "metadata": {
    "kernelspec": {
      "display_name": "Python 3 (ipykernel)",
      "language": "python",
      "name": "python3"
    }
  },
  "nbformat": 4,
  "nbformat_minor": 4
}
